{
 "cells": [
  {
   "cell_type": "markdown",
   "metadata": {},
   "source": [
    "## Gemini that can stick to response schema when responding JSONs \n",
    "\n",
    "https://colab.sandbox.google.com/github/GoogleCloudPlatform/generative-ai/blob/main/gemini/controlled-generation/intro_controlled_generation.ipynb#scrollTo=tFy3H3aPgx12"
   ]
  },
  {
   "cell_type": "code",
   "execution_count": 1,
   "metadata": {},
   "outputs": [],
   "source": [
    "from vertexai.generative_models import HarmBlockThreshold\n",
    "from vertexai.generative_models import GenerationConfig\n",
    "from vertexai.generative_models import GenerativeModel\n",
    "from vertexai.generative_models import HarmCategory\n",
    "from vertexai.generative_models import Part\n",
    "from vertexai.generative_models import Tool\n",
    "import vertexai \n",
    "import logging \n",
    "import json \n",
    "import os "
   ]
  },
  {
   "cell_type": "code",
   "execution_count": 2,
   "metadata": {},
   "outputs": [],
   "source": [
    "logger = logging.getLogger(__name__)\n",
    "logger.setLevel(logging.INFO)\n",
    "logger.addHandler(logging.StreamHandler())"
   ]
  },
  {
   "cell_type": "code",
   "execution_count": 3,
   "metadata": {},
   "outputs": [],
   "source": [
    "PROJECT_ID = 'arun-genai-bb'\n",
    "LOCATION = 'us-central1'\n",
    "MODEL_NAME = 'gemini-1.5-pro-001'"
   ]
  },
  {
   "cell_type": "code",
   "execution_count": 4,
   "metadata": {},
   "outputs": [],
   "source": [
    "os.environ['GOOGLE_APPLICATION_CREDENTIALS'] = './../../credentials/key.json'\n",
    "vertexai.init(project=PROJECT_ID, location=LOCATION)"
   ]
  },
  {
   "cell_type": "code",
   "execution_count": 5,
   "metadata": {},
   "outputs": [],
   "source": [
    "system_instruction = ['You are data engineer']"
   ]
  },
  {
   "cell_type": "code",
   "execution_count": 6,
   "metadata": {},
   "outputs": [],
   "source": [
    "response_schema = {\n",
    "    \"type\": \"array\",\n",
    "    \"items\": {\n",
    "        \"type\": \"object\",\n",
    "        \"properties\": {\n",
    "            \"title\": {\n",
    "                \"type\": \"string\",\n",
    "                \"pattern\": \"^[A-Z][a-zA-Z0-9 ]{5,50}$\",  # Title must start with an uppercase letter and be between 6 to 50 characters\n",
    "            },\n",
    "            \"author\": {\n",
    "                \"type\": \"string\",\n",
    "            },\n",
    "            \"genre\": {\n",
    "                \"type\": \"string\",\n",
    "                \"enum\": [\"Science Fiction\", \"Fantasy\", \"Mystery\", \"Romance\", \"Thriller\", \"Non-Fiction\"],\n",
    "            },\n",
    "            \"recommendation_date\": {\n",
    "                \"type\": \"string\",\n",
    "                \"pattern\": \"^\\\\d{4}-\\\\d{2}-\\\\d{2}$\" # YYYY-MM-DD\n",
    "            },\n",
    "        },\n",
    "        \"required\": [\"title\", \"author\", \"genre\"],\n",
    "    },\n",
    "}"
   ]
  },
  {
   "cell_type": "code",
   "execution_count": 9,
   "metadata": {},
   "outputs": [],
   "source": [
    "model = GenerativeModel(MODEL_NAME,\n",
    "                        system_instruction=system_instruction)"
   ]
  },
  {
   "cell_type": "code",
   "execution_count": 11,
   "metadata": {},
   "outputs": [
    {
     "name": "stdout",
     "output_type": "stream",
     "text": [
      "[{\"author\": \"Brandon Sanderson\", \"genre\": \"Fantasy\", \"title\": \"The Way of Kings\", \"recommendation_date\": \"2023-08-25\"}, {\"author\": \"James S.A. Corey\", \"genre\": \"Science Fiction\", \"title\": \"Leviathan Wakes\", \"recommendation_date\": \"2023-08-25\"}, {\"author\": \"Tamsyn Muir\", \"genre\": \"Science Fiction\", \"title\": \"Gideon the Ninth\", \"recommendation_date\": \"2023-08-25\"}, {\"author\": \"N.K. Jemisin\", \"genre\": \"Fantasy\", \"title\": \"The Fifth Season\", \"recommendation_date\": \"2023-08-25\"}] \n"
     ]
    }
   ],
   "source": [
    "response = model.generate_content(\"List a few fictional books with their titles, authors, and genres and recommendation date\",\n",
    "    generation_config=GenerationConfig(\n",
    "        response_mime_type=\"application/json\", response_schema=response_schema\n",
    "    ),\n",
    ")\n",
    "\n",
    "print(response.text)"
   ]
  }
 ],
 "metadata": {
  "kernelspec": {
   "display_name": ".agentic-document-extraction",
   "language": "python",
   "name": "python3"
  },
  "language_info": {
   "codemirror_mode": {
    "name": "ipython",
    "version": 3
   },
   "file_extension": ".py",
   "mimetype": "text/x-python",
   "name": "python",
   "nbconvert_exporter": "python",
   "pygments_lexer": "ipython3",
   "version": "3.11.6"
  }
 },
 "nbformat": 4,
 "nbformat_minor": 2
}
