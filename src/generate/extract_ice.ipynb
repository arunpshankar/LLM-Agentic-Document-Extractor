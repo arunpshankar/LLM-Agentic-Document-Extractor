{
 "cells": [
  {
   "cell_type": "markdown",
   "metadata": {},
   "source": [
    "# Data Extraction facilitated by Gemini 1.5 Pro"
   ]
  },
  {
   "cell_type": "markdown",
   "metadata": {},
   "source": [
    "##### Imports "
   ]
  },
  {
   "cell_type": "code",
   "execution_count": 2,
   "metadata": {},
   "outputs": [],
   "source": [
    "from vertexai.generative_models import HarmBlockThreshold\n",
    "from vertexai.generative_models import GenerationConfig\n",
    "from vertexai.generative_models import GenerativeModel\n",
    "from vertexai.generative_models import HarmCategory\n",
    "from vertexai.generative_models import Part\n",
    "from vertexai.generative_models import Tool\n",
    "import vertexai \n",
    "import logging \n",
    "import json \n",
    "import os "
   ]
  },
  {
   "cell_type": "markdown",
   "metadata": {},
   "source": [
    "##### Setup logging"
   ]
  },
  {
   "cell_type": "code",
   "execution_count": 3,
   "metadata": {},
   "outputs": [],
   "source": [
    "logger = logging.getLogger(__name__)\n",
    "logger.setLevel(logging.INFO)\n",
    "logger.addHandler(logging.StreamHandler())"
   ]
  },
  {
   "cell_type": "markdown",
   "metadata": {},
   "source": [
    "##### Log versions of dependencies "
   ]
  },
  {
   "cell_type": "code",
   "execution_count": 4,
   "metadata": {},
   "outputs": [
    {
     "name": "stderr",
     "output_type": "stream",
     "text": [
      "Using vertexai==1.52.0\n"
     ]
    }
   ],
   "source": [
    "logger.info(f'Using vertexai=={vertexai.__version__}')"
   ]
  },
  {
   "cell_type": "markdown",
   "metadata": {},
   "source": [
    "##### Setup essentials "
   ]
  },
  {
   "cell_type": "code",
   "execution_count": 5,
   "metadata": {},
   "outputs": [],
   "source": [
    "PROJECT_ID = 'arun-genai-bb'\n",
    "LOCATION = 'us-central1'\n",
    "MODEL_NAME = 'gemini-1.5-pro-001'"
   ]
  },
  {
   "cell_type": "code",
   "execution_count": 6,
   "metadata": {},
   "outputs": [],
   "source": [
    "os.environ['GOOGLE_APPLICATION_CREDENTIALS'] = './../../credentials/key.json'\n",
    "vertexai.init(project=PROJECT_ID, location=LOCATION)"
   ]
  },
  {
   "cell_type": "markdown",
   "metadata": {},
   "source": [
    "##### Setup Gemini 1.5"
   ]
  },
  {
   "cell_type": "code",
   "execution_count": 7,
   "metadata": {},
   "outputs": [],
   "source": [
    "with open('./../../data/templates/system_instructions.txt', 'r') as f:\n",
    "    instructions = f.read()\n",
    "    \n",
    "system_instruction = [instructions]\n"
   ]
  },
  {
   "cell_type": "code",
   "execution_count": 8,
   "metadata": {},
   "outputs": [
    {
     "data": {
      "text/plain": [
       "['You are an expert and perfectly accurate financial data annotation analyst. You are disciplined, and feel focused and very much awake. You are writing JSON schema records about structured notes that are tied to underlying securities (sometimes one, sometimes many). These notes frequently pay coupon payments conditional on the performance of the underlying assets either at some frequency, or at the maturity of the note, or both. In addition, they often have early redemption, or Autocall, features, which cause them to pay out before the scheduled maturity date. Finally, the Note may also have an at expiration condition that can be expressed as a set of option payments. The pdf provided in the context is the prospectus of a particular Note, which you are recording the necessary information from in order to price that structured note. While a human will also review your results, historically, you are more accurate, careful, and complete than the human\\'s in the analysis loop.\\n\\n# Instructions and Guidance:\\nAs part of this schema, you will be recording factoid field values for each field in the json response. Use the definitions below to help you find the appropriate values to fill each field with, based on the specific context of the note disclosure provided. There is a specific schema that will be required, but we also provide (i) guidance and examples of how to answer the fields, and (ii) definitions to use.\\nAt the beginning of each task, you\\'ll be alloted a json field called {plan:}, For that field, you should first review the questions being asked, and then briefly explain step by step how you will go about answering the questions.\\nThen, For each field, we provide the field name, as well as the required potential values in a specification json. Required values are denoted as follows:\\n(1) If there is an explicit list of allowed values, they will be shown as \"<allowed: [\\'choice A\\' , \\'choice B\\']> \". E.g. if the field potential values are \"<allowed: [\\'cat\\',\\'horse\\']>\", then a good field value is: horse . a Bad field value would be \\'donkey\\'. If you have no evidence to support either, you can always report \\'none\\'.\\n(2) If it is a date value, Good answers will have <\"yyyy-mm-dd\"> format, e.g. 1981-02-08. Bad answers would be any other format, like \\'Feb 8, 1981\\'.\\n(3) If it is a <number> that requires no calculation, you can provide the number with a couple decimal places. E.g. 100.00\\n(4) If it is a <number> that you have to calculate, explain your equation explicitly in a <math > tag. E.g. if you need the ratio of the atomic number of Carbon to Oxygen, a Good answer would be \\'<math 6.0/8.0>\\'. Bad answers would be \\'6/8\\', \\'0.75\\'.\\n(5) If it is a name or other free text string, it will be denoted <string> with a number, e.g. <string 8>. In that case, your answer should be no more than 8 words long. It can be shorter than 8 words, but not longer. E.g. for <string 4>, a good answer could be \"the purple elephant\", but a Bad answer would be \"I can explain that, the purple elephant is the answer\".\\n(6) Finally, some fields are arrays that contain records that are sets of other fields. These generally correspond to either (a) sets of dates, or (b) sets of option-like payouts that explain the ending payment structure of the note.\\n\\n\\n**Coupon_Barrier_Level_Percent:** Answer Format: <number>. The Coupon Barrier Level Percent is defined as the price level in percent of the underlying or reference asset\\'s initial spot price, at which the coupon barrier or trigger occurs, and when the conditional coupon rate will be paid. is defined as a percentage of the underlying or reference company/etf/or index initial spot price. To compute it, take the Coupon Barrier Level Price divided by the initial asset price (or reference price if applicable). For example, If the initial asset price is 9, and the coupon barrier price level is 4.5, then the Coupon_Barrier_Level_Percent := 4.5 / 9 = 0.5\\n\\n \\n\\n**Coupon_Barrier_Direction:** Answer Format: <allowed: [Above, Below]>. The Autocall Barrier Direction is defined as the direction of the underlying or reference asset price movement that triggers the early redemption event for the Note?\\n\\n\"Below\": means that the underlying or reference asset\\'s price level has to fall below the autocall barrier/trigger level i order to activate the trigger event.\\n\\n\"Above\": means that the underlying or reference asset\\'s price level asset has to rise above the autocall barrier/trigger level in order to activate the trigger event.\\n\\n \\n\\n**Coupon_Barrier_Continuous:** Answer Format: <allowed: [True, False]>. The Coupon Barrier is considered Continuous if the trigger event for the coupon barrier can be activated, or triggered, at any point during the product\\'s life:\\n\\n\"Yes\" If the coupon barrier can be activated at any point during the product\\'s life, it\\'s considered continuous. In other words, if the coupon criteria can be assessed daily, the answer is \"Yes.\"\\n\\n\"No\" if the coupon barrier can only be triggered on specific coupon fixing, valuation, or observation dates, it\\'s not considered continuous. If the coupon condition can only be assessed on the fixing, valuation, or observations dates listed in the term sheet, then the answer is \"No.\"\\n\\n \\n\\n**Coupon_Payment_Frequency:** Answer Format: <allowed: [weekly, bi-weekly,monthly, bi-monthly, quarterly, semi-annual, annual, at-maturity, manual, other ]>. The Coupon Frequency is defined as the frequence of coupon or interest rate payments. The optional values the Coupon Frequency can take are defined as follows, and the Coupon Frequency takes the value that most closely matches the definition described here that reflects the payment rates of the note,\\n\\n\"weekly\" -there is one coupon payment per week.\\n\\n\"bi-weekly\" - there are two coupon payments per month\\n\\n\"Monthly\" - there is one coupon per month\\n\\n\"Bi-Monthly\" - there is one coupon approximately every 2 months\\n\\n\"Quarterly\" - there is one coupon every quarter.\\n\\n\"Semi-Annual\" - there is one coupon approximately every six months.\\n\\n\"Annual\" - there is one coupon every year\\n\\n\"At Maturity\" - there are no coupons, only an at maturity/settlement/expiry payment.\\n\\n\"Manual\" - payments are explicitly listed in the note description, but they don\\'t follow any particular calendar spacing or frequency.\\n\\n\"Other\" - the interest payments are not on a regular schedule.\\n\\n \\n\\n**Coupon_Intra_Daily_Monitoring:** Answer Format: <allowed: [True,False]> The Note is considered to have a intra daily monitoring if it is has a \"continuous\" coupon barrier monitoring, and if the time of observation of the coupon barrier is stated as happening at a specific time or set of time during the day.\\n\\n \\n\\n**Coupon_Has_Memory:** Answer Format: <allowed: [True, False]>. The Note is considered to have a Coupon Memory Effect if:\\n\\n[\"True\"]: if, on any coupon valuation/fixing/observation date that the underlying breaches the coupon barrier, then not only is the current interest or coupon paid but also any previous coupons that were not paid because on those coupon dates the underlying did not breach the coupon barrier. It effectively \"catches up\" on other payments.\\n\\n[\"False \"]: if, on any coupon valuation/fixing/observation date the underlying or reference asset breaches the coupon barrier, then that coupon payment will be made, but not pay or \"make up\" previous coupon or interest payments.\\n\\n \\n\\n**Coupon_Rate_Per_Annum:** Answer Format: <allowed: [True, False]>. if interest rates for coupons are described as \"annual\", \"annualized\", or \"per annum\", \"APR\" or similar, they are considered as annualized. Otherwise, if amounts or percents are described as being paid monthly, or other frequencies, they are generally not considered annualized\\n\\n \\n\\n**Coupon_Conditional_Rate:** Answer Format: <number>. The Conditional Coupon Rate is defined as the coupon rate or interest rate, also known as the nominal yield, paid by the Note conditional on the satisfaction of the barrier or trigger condition, or some other condition.\\n\\n \\n\\n**Coupon_Guaranteed_Rate:** Answer Format: <number>. The Guaranteed Coupon Rate Percent is defined as the nominal interest rate yield paid by the note regardless if any barrier or trigger conditions being satisfied or met. It will often be shown in a calculation or table\\n\\n \\n\\n**Coupon_Barrier_Calculation_Method:** Answer Format: <allowed: [WorstOf, SingleAsset, BestOf, WeightedBasket]>.The Coupon Barrier Type is defined as being one of the following categories explains how the underlying or reference asset\\'s price level is computed to determine if the conditional coupon payments are triggered :\\n\\n\"Worst of\" - then the barrier is defined by the lowest or worst performing underlying or reference security. It is often explicitly described as a \"Worst Of\" barrier. In this case, the Trigger event occurs when the worst performing underlying or reference security\\'s price crosses the barrier or trigger level.\\n\\n\"SingleAsset\" - then the barrier is defined by the performance of a single underlying/reference Asset. In this case, the Trigger event occurs when the single underlying or reference security\\'s price crosses the barrier or trigger level.\\n\\n\"Weighted Basket\"- then the barrier condition is determined by comparing the performance of a specific weighted basket of underlying/reference securities. It will be described with explicit weights.In this case, the Trigger event occurs when the weighted average or basket performance of underlying or reference security prices crosses the barrier or trigger level.\\n\\n\"Best Of\" - the satisfaction of the barrier condition is determined by the best or highest performing underlying/reference asset. It will frequently be described as a \"best of\" barrier type. In this case, the Trigger event occurs when the best performing underlying or reference security\\'s price crosses the barrier or trigger level.\\n\\n \\n\\n**Coupon_Payment_Style:** Answer Format: <allowed: [Binary, Accrual]>. The Coupon Style of a note is defined as either \"Binary\" or \"Accrual\".\\n\\nIf the note has a Binary coupon style, also known as a digital coupon style, on each relevant date (i.e., the coupon observation date if the barrier is set to European or any date if the barrier is set to be continuously monitored) that the product is still alive (i.e., the defined Autocall Barrier has not been breached), the underlying is monitored or observed. The coupon is only paid if the underlying on that date is above the Coupon Barrier or coupon trigger level .\\n\\nIf the note has an Accrual coupon style, on each observation (or accrual frequency) date that the product is still alive, the underlying is monitored. The coupon is only accrued for that date if the underlying on that date is above the Coupon Barrier . The coupon paid on the next coupon date necessarily depends on the coupon accrued over the coupon period itself.\\n\\n \\n\\n \\n\\n**Coupon_Dates:** <Array> of the fields {coupon_Date_barrier_level_percent, coupon_date_observation_date, coupon_date_payment_date, coupon_date_conditional_rate}\\n\\n**Coupon_Date_Barrier_Level_Percent:** Answer Format: <number>. The Coupon Barrier Level Percent is defined as the price level in percent of the underlying or reference asset\\'s initial spot price, at which the coupon barrier or trigger occurs, and when the conditional coupon rate will be paid. is defined as a percentage of the underlying or reference company/etf/or index initial asset price. Sometimes this barrier changes each coupon date, and sometimes it is stated in a description of the coupon barrier. If it is missing for each coupon date, use the coupon barrier level from the overall description.\\n\\n \\n\\n**Coupon_Date_Observation_Date:** Answer Format: <yyyy-mm-dd>. The Fixing dates are defined as the set of dates that are listed as either \"fixing dates\", \"observation dates\", or \"coupon valuation dates\", and are either described as an explicit set of dates, or as a frequency of dates. Sometimes, no coupon dates are defined, in which case only a final redemption date is listed\\n\\n**Coupon_Date_Payment_Date:** Answer Format: <yyyy-mm-dd>. The Coupon Dates are defined as a list of dates when payments are expected to be made. These are also known as \"interest payment dates\", \"coupon payment dates\" or \"coupon dates\", listed in the context for this note. They are always listed in chronological order\\n\\n**Coupon_Date_Conditional_Payment:** Answer Format: <number>. The Conditional Coupon Payment is defined as the coupon or interest payment, also known as the nominal yield, paid by the Note conditional on the satisfaction of the barrier or trigger condition on the subsequent coupon payment date. When computing the payment amounts to record, assume that all previous coupon barrier level conditions were satisfied. Make sure to review the coupon payment terms, as they may indicate that the coupon note fields provided in the prospectus might be cumulative coupon value, such as for memory coupon bonds. In those cases, only record the incremental coupon amount as the payment.\\n\\nFor example, if the first coupon date states a coupon value of 0.0125, then the second date shows 0.0250, then 0.0375, you should record a Coupon_Date_Conditional_Payment of the incremental size: for date 1: 0.0125, for date 2: 0.0125, for date 3: 0.0125 etc.\\n\\n**Coupon_Date_is_NonBusiness_Date:** <allowed: [True, False]>.\\n\\n**Coupon_First_Observation_Date:** Answer Format: <yyyy-mm-dd>. The First Fixing Date is defined as the first date on which the note value and coupons are calculated. It is sometimes known as \"first fixing date\", \"first valuation\", and/or \"first observation date\" of the note. Usually calculated as the strike date + observation frequency. For example, for quarterly observation, the first fixing date is usually 3 months after the strike date. It is frequently stated explicitly in the note']"
      ]
     },
     "execution_count": 8,
     "metadata": {},
     "output_type": "execute_result"
    }
   ],
   "source": [
    "system_instruction"
   ]
  },
  {
   "cell_type": "code",
   "execution_count": 9,
   "metadata": {},
   "outputs": [],
   "source": []
  },
  {
   "cell_type": "code",
   "execution_count": 11,
   "metadata": {},
   "outputs": [
    {
     "ename": "TypeError",
     "evalue": "Unexpected tool type: c.",
     "output_type": "error",
     "traceback": [
      "\u001b[0;31m---------------------------------------------------------------------------\u001b[0m",
      "\u001b[0;31mTypeError\u001b[0m                                 Traceback (most recent call last)",
      "Cell \u001b[0;32mIn[11], line 1\u001b[0m\n\u001b[0;32m----> 1\u001b[0m model \u001b[38;5;241m=\u001b[39m \u001b[43mGenerativeModel\u001b[49m\u001b[43m(\u001b[49m\u001b[43mMODEL_NAME\u001b[49m\u001b[43m,\u001b[49m\n\u001b[1;32m      2\u001b[0m \u001b[43m                        \u001b[49m\u001b[43msystem_instruction\u001b[49m\u001b[38;5;241;43m=\u001b[39;49m\u001b[43msystem_instruction\u001b[49m\u001b[43m,\u001b[49m\u001b[43m \u001b[49m\n\u001b[1;32m      3\u001b[0m \u001b[43m                        \u001b[49m\u001b[43mtools\u001b[49m\u001b[38;5;241;43m=\u001b[39;49m\u001b[38;5;124;43m'\u001b[39;49m\u001b[38;5;124;43mcode_execution\u001b[39;49m\u001b[38;5;124;43m'\u001b[39;49m\u001b[43m)\u001b[49m\n\u001b[1;32m      4\u001b[0m model\u001b[38;5;241m.\u001b[39m\u001b[38;5;18m__dict__\u001b[39m\n",
      "File \u001b[0;32m~/Desktop/Projects/LLM-Agentic-Document-Extractor/.agentic-document-extraction/lib/python3.11/site-packages/vertexai/generative_models/_generative_models.py:196\u001b[0m, in \u001b[0;36m_GenerativeModel.__init__\u001b[0;34m(self, model_name, generation_config, safety_settings, tools, tool_config, system_instruction)\u001b[0m\n\u001b[1;32m    193\u001b[0m \u001b[38;5;28mself\u001b[39m\u001b[38;5;241m.\u001b[39m_system_instruction \u001b[38;5;241m=\u001b[39m system_instruction\n\u001b[1;32m    195\u001b[0m \u001b[38;5;66;03m# Validating the parameters\u001b[39;00m\n\u001b[0;32m--> 196\u001b[0m \u001b[38;5;28;43mself\u001b[39;49m\u001b[38;5;241;43m.\u001b[39;49m\u001b[43m_prepare_request\u001b[49m\u001b[43m(\u001b[49m\n\u001b[1;32m    197\u001b[0m \u001b[43m    \u001b[49m\u001b[43mcontents\u001b[49m\u001b[38;5;241;43m=\u001b[39;49m\u001b[38;5;124;43m\"\u001b[39;49m\u001b[38;5;124;43mtest\u001b[39;49m\u001b[38;5;124;43m\"\u001b[39;49m\u001b[43m,\u001b[49m\n\u001b[1;32m    198\u001b[0m \u001b[43m    \u001b[49m\u001b[43mgeneration_config\u001b[49m\u001b[38;5;241;43m=\u001b[39;49m\u001b[43mgeneration_config\u001b[49m\u001b[43m,\u001b[49m\n\u001b[1;32m    199\u001b[0m \u001b[43m    \u001b[49m\u001b[43msafety_settings\u001b[49m\u001b[38;5;241;43m=\u001b[39;49m\u001b[43msafety_settings\u001b[49m\u001b[43m,\u001b[49m\n\u001b[1;32m    200\u001b[0m \u001b[43m    \u001b[49m\u001b[43mtools\u001b[49m\u001b[38;5;241;43m=\u001b[39;49m\u001b[43mtools\u001b[49m\u001b[43m,\u001b[49m\n\u001b[1;32m    201\u001b[0m \u001b[43m    \u001b[49m\u001b[43mtool_config\u001b[49m\u001b[38;5;241;43m=\u001b[39;49m\u001b[43mtool_config\u001b[49m\u001b[43m,\u001b[49m\n\u001b[1;32m    202\u001b[0m \u001b[43m    \u001b[49m\u001b[43msystem_instruction\u001b[49m\u001b[38;5;241;43m=\u001b[39;49m\u001b[43msystem_instruction\u001b[49m\u001b[43m,\u001b[49m\n\u001b[1;32m    203\u001b[0m \u001b[43m\u001b[49m\u001b[43m)\u001b[49m\n",
      "File \u001b[0;32m~/Desktop/Projects/LLM-Agentic-Document-Extractor/.agentic-document-extraction/lib/python3.11/site-packages/vertexai/generative_models/_generative_models.py:339\u001b[0m, in \u001b[0;36m_GenerativeModel._prepare_request\u001b[0;34m(self, contents, generation_config, safety_settings, tools, tool_config, system_instruction)\u001b[0m\n\u001b[1;32m    337\u001b[0m             gapic_tools\u001b[38;5;241m.\u001b[39mappend(tool\u001b[38;5;241m.\u001b[39m_raw_tool)\n\u001b[1;32m    338\u001b[0m         \u001b[38;5;28;01melse\u001b[39;00m:\n\u001b[0;32m--> 339\u001b[0m             \u001b[38;5;28;01mraise\u001b[39;00m \u001b[38;5;167;01mTypeError\u001b[39;00m(\u001b[38;5;124mf\u001b[39m\u001b[38;5;124m\"\u001b[39m\u001b[38;5;124mUnexpected tool type: \u001b[39m\u001b[38;5;132;01m{\u001b[39;00mtool\u001b[38;5;132;01m}\u001b[39;00m\u001b[38;5;124m.\u001b[39m\u001b[38;5;124m\"\u001b[39m)\n\u001b[1;32m    341\u001b[0m gapic_tool_config \u001b[38;5;241m=\u001b[39m \u001b[38;5;28;01mNone\u001b[39;00m\n\u001b[1;32m    342\u001b[0m \u001b[38;5;28;01mif\u001b[39;00m tool_config:\n",
      "\u001b[0;31mTypeError\u001b[0m: Unexpected tool type: c."
     ]
    }
   ],
   "source": [
    "model = GenerativeModel(MODEL_NAME,\n",
    "                        system_instruction=system_instruction, \n",
    "                        tools='code_execution')\n",
    "model.__dict__"
   ]
  },
  {
   "cell_type": "markdown",
   "metadata": {},
   "source": [
    "##### Setup generation configs "
   ]
  },
  {
   "cell_type": "markdown",
   "metadata": {},
   "source": [
    "For deterministic output, we can set low values for top k, such as 1 or 2. We can also set a very low value for top p, close to 0. A low temperature near 0 will also ensure the responses are the most probable and deterministic."
   ]
  },
  {
   "cell_type": "code",
   "execution_count": null,
   "metadata": {},
   "outputs": [],
   "source": [
    "generation_config = GenerationConfig(temperature=0.0, \n",
    "                                     top_p=0.0, \n",
    "                                     top_k=1, \n",
    "                                     candidate_count=1, \n",
    "                                     max_output_tokens=8192,\n",
    "                                     response_mime_type=\"application/json\")\n",
    "generation_config.__dict__"
   ]
  },
  {
   "cell_type": "markdown",
   "metadata": {},
   "source": [
    "##### Set safety settings "
   ]
  },
  {
   "cell_type": "code",
   "execution_count": null,
   "metadata": {},
   "outputs": [],
   "source": [
    "safety_settings = {\n",
    "    HarmCategory.HARM_CATEGORY_UNSPECIFIED: HarmBlockThreshold.BLOCK_NONE,\n",
    "    HarmCategory.HARM_CATEGORY_DANGEROUS_CONTENT: HarmBlockThreshold.BLOCK_NONE,\n",
    "    HarmCategory.HARM_CATEGORY_HATE_SPEECH: HarmBlockThreshold.BLOCK_NONE,\n",
    "    HarmCategory.HARM_CATEGORY_HARASSMENT: HarmBlockThreshold.BLOCK_NONE,\n",
    "    HarmCategory.HARM_CATEGORY_SEXUALLY_EXPLICIT: HarmBlockThreshold.BLOCK_NONE\n",
    "}"
   ]
  },
  {
   "cell_type": "markdown",
   "metadata": {},
   "source": [
    "## Kickstart data extraction"
   ]
  },
  {
   "cell_type": "markdown",
   "metadata": {},
   "source": [
    "##### Load file bytes"
   ]
  },
  {
   "cell_type": "code",
   "execution_count": null,
   "metadata": {},
   "outputs": [],
   "source": [
    "with open('./../../data/test_doc_ice.pdf', \"rb\") as f:\n",
    "    pdf_bytes = f.read()\n",
    "\n",
    "pdf_parts = Part.from_data(data=pdf_bytes, mime_type='application/pdf')\n",
    "pdf_parts"
   ]
  },
  {
   "cell_type": "code",
   "execution_count": null,
   "metadata": {},
   "outputs": [],
   "source": [
    "user_prompt = \"Extract data based on provided instructions from the PDF given to you and return output in the exact asked format.\""
   ]
  },
  {
   "cell_type": "code",
   "execution_count": null,
   "metadata": {},
   "outputs": [],
   "source": [
    "contents = [pdf_parts, user_prompt]"
   ]
  },
  {
   "cell_type": "code",
   "execution_count": null,
   "metadata": {},
   "outputs": [],
   "source": [
    "model.count_tokens(contents)"
   ]
  },
  {
   "cell_type": "code",
   "execution_count": null,
   "metadata": {},
   "outputs": [],
   "source": [
    "response = model.generate_content(contents, \n",
    "                                  generation_config=generation_config, \n",
    "                                  safety_settings=safety_settings)\n",
    "response"
   ]
  },
  {
   "cell_type": "markdown",
   "metadata": {},
   "source": [
    "##### Decipher the output response"
   ]
  },
  {
   "cell_type": "code",
   "execution_count": null,
   "metadata": {},
   "outputs": [],
   "source": [
    "response.text.strip()"
   ]
  },
  {
   "cell_type": "code",
   "execution_count": null,
   "metadata": {},
   "outputs": [],
   "source": [
    "response.to_dict().get(\"usage_metadata\")"
   ]
  },
  {
   "cell_type": "code",
   "execution_count": null,
   "metadata": {},
   "outputs": [],
   "source": [
    "response.candidates[0].finish_reason"
   ]
  },
  {
   "cell_type": "code",
   "execution_count": null,
   "metadata": {},
   "outputs": [],
   "source": [
    "response.candidates[0].safety_ratings"
   ]
  },
  {
   "cell_type": "code",
   "execution_count": null,
   "metadata": {},
   "outputs": [],
   "source": [
    "output_json = json.loads(response.text.strip())\n",
    "print(output_json)"
   ]
  },
  {
   "cell_type": "code",
   "execution_count": null,
   "metadata": {},
   "outputs": [],
   "source": [
    "output_dir = './../../data/output'\n",
    "output_file_path = os.path.join(output_dir, 'ingredients.txt')\n",
    "\n",
    "os.makedirs(output_dir, exist_ok=True)\n",
    "\n",
    "with open(output_file_path, 'w') as file:\n",
    "    file.write(json.dumps(output_json, indent=4))"
   ]
  },
  {
   "cell_type": "code",
   "execution_count": null,
   "metadata": {},
   "outputs": [],
   "source": []
  }
 ],
 "metadata": {
  "kernelspec": {
   "display_name": ".agentic-document-extraction",
   "language": "python",
   "name": "python3"
  },
  "language_info": {
   "codemirror_mode": {
    "name": "ipython",
    "version": 3
   },
   "file_extension": ".py",
   "mimetype": "text/x-python",
   "name": "python",
   "nbconvert_exporter": "python",
   "pygments_lexer": "ipython3",
   "version": "3.11.6"
  }
 },
 "nbformat": 4,
 "nbformat_minor": 2
}
